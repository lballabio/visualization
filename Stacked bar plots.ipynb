{
 "cells": [
  {
   "cell_type": "code",
   "execution_count": null,
   "metadata": {},
   "outputs": [],
   "source": [
    "import numpy\n",
    "from matplotlib import pyplot as plt\n",
    "%matplotlib inline\n",
    "\n",
    "import utils"
   ]
  },
  {
   "cell_type": "code",
   "execution_count": null,
   "metadata": {},
   "outputs": [],
   "source": [
    "data1 = [('ITA_1', [0.12, 0.08, 0.15, 0.20, 0.45]),\n",
    "         ('FIS_2', [0.00, 0.09, 0.22, 0.44, 0.25])]"
   ]
  },
  {
   "cell_type": "code",
   "execution_count": null,
   "metadata": {},
   "outputs": [],
   "source": [
    "data2 = [('classe 1', [0.18, 0.22, 0.32, 0.14, 0.14]),\n",
    "         ('classe 2', [0.11, 0.00, 0.08, 0.15, 0.66]),\n",
    "         ('classe 3', [0.05, 0.00, 0.06, 0.35, 0.54])]"
   ]
  },
  {
   "cell_type": "code",
   "execution_count": null,
   "metadata": {},
   "outputs": [],
   "source": [
    "def stacked_plot_bar(data, divergent=False):\n",
    "    labels, values = zip(*data)\n",
    "    values = numpy.array(values)\n",
    "\n",
    "    fig = plt.figure(figsize=(10,len(labels)))\n",
    "    ax = fig.add_subplot(1,1,1)\n",
    "    utils.despine(ax)\n",
    "    colors = ['#fa7d26','#fdbb7e','#c8d0d9','#a4cce8','#62a3cc']\n",
    "    ind = numpy.arange(len(labels))\n",
    "    base = -(values[:,0]+values[:,1]+values[:,2]/2.0) if divergent else numpy.zeros(len(labels))\n",
    "    for i in range(5):\n",
    "        ax.barh(ind, values[:,i], align='center', height=0.75, color=colors[i], left=base+values[:,:i].sum(axis=1))\n",
    "    ax.set_yticks(ind)\n",
    "    ax.set_yticklabels(labels)\n",
    "    ax.xaxis.set_major_formatter(utils.percentages)"
   ]
  },
  {
   "cell_type": "code",
   "execution_count": null,
   "metadata": {},
   "outputs": [],
   "source": [
    "stacked_plot_bar(data1)"
   ]
  },
  {
   "cell_type": "code",
   "execution_count": null,
   "metadata": {},
   "outputs": [],
   "source": [
    "stacked_plot_bar(data2)"
   ]
  },
  {
   "cell_type": "code",
   "execution_count": null,
   "metadata": {},
   "outputs": [],
   "source": [
    "stacked_plot_bar(data1, divergent=True)"
   ]
  },
  {
   "cell_type": "code",
   "execution_count": null,
   "metadata": {},
   "outputs": [],
   "source": [
    "stacked_plot_bar(data2, divergent=True)"
   ]
  },
  {
   "cell_type": "code",
   "execution_count": null,
   "metadata": {},
   "outputs": [],
   "source": []
  }
 ],
 "metadata": {
  "kernelspec": {
   "display_name": "Python 3",
   "language": "python",
   "name": "python3"
  },
  "language_info": {
   "codemirror_mode": {
    "name": "ipython",
    "version": 3
   },
   "file_extension": ".py",
   "mimetype": "text/x-python",
   "name": "python",
   "nbconvert_exporter": "python",
   "pygments_lexer": "ipython3",
   "version": "3.6.3"
  }
 },
 "nbformat": 4,
 "nbformat_minor": 1
}
