{
 "metadata": {
  "name": "",
  "signature": "sha256:35b7dc5754d5d3284f2e5a3f187eaf5935c3e04affb777aa182274cc16e87946"
 },
 "nbformat": 3,
 "nbformat_minor": 0,
 "worksheets": [
  {
   "cells": [
    {
     "cell_type": "code",
     "collapsed": false,
     "input": [
      "import numpy\n",
      "from matplotlib import pyplot as plt\n",
      "from matplotlib import ticker\n",
      "%matplotlib inline"
     ],
     "language": "python",
     "metadata": {},
     "outputs": []
    },
    {
     "cell_type": "code",
     "collapsed": false,
     "input": [
      "def despine(ax, sides=None):\n",
      "    sides = sides or ['top', 'bottom', 'left', 'right']\n",
      "    for side in sides:\n",
      "        ax.spines[side].set_visible(False)"
     ],
     "language": "python",
     "metadata": {},
     "outputs": []
    },
    {
     "cell_type": "code",
     "collapsed": false,
     "input": [
      "@ticker.FuncFormatter\n",
      "def to_percent(x, pos):\n",
      "    return \"%.0f %%\" % (x*100)    "
     ],
     "language": "python",
     "metadata": {},
     "outputs": []
    },
    {
     "cell_type": "code",
     "collapsed": false,
     "input": [
      "data1 = [('ITA_1', [0.12, 0.08, 0.15, 0.20, 0.45]),\n",
      "         ('FIS_2', [0.00, 0.09, 0.22, 0.44, 0.25])]"
     ],
     "language": "python",
     "metadata": {},
     "outputs": []
    },
    {
     "cell_type": "code",
     "collapsed": false,
     "input": [
      "data2 = [('classe 1', [0.18, 0.22, 0.32, 0.14, 0.14]),\n",
      "         ('classe 2', [0.11, 0.00, 0.08, 0.15, 0.66]),\n",
      "         ('classe 3', [0.05, 0.00, 0.06, 0.35, 0.54])]"
     ],
     "language": "python",
     "metadata": {},
     "outputs": []
    },
    {
     "cell_type": "code",
     "collapsed": false,
     "input": [
      "def stacked_plot_bar(data):\n",
      "    labels, values = zip(*data)\n",
      "    values = numpy.array(values)\n",
      "\n",
      "    fig = plt.figure(figsize=(10,len(labels)))\n",
      "    ax = fig.add_subplot(1,1,1)\n",
      "    despine(ax, ['top', 'bottom'])\n",
      "    colors = ['#fa7d26','#fdbb7e','#c8d0d9','#a4cce8','#62a3cc']\n",
      "    ind = numpy.arange(len(labels))\n",
      "    for i in range(5):\n",
      "        ax.barh(ind, values[:,i], align='center', height=0.75, color=colors[i], left=values[:,:i].sum(axis=1))\n",
      "    ax.set_yticks(ind)\n",
      "    ax.set_yticklabels(labels)\n",
      "    ax.xaxis.set_major_formatter(to_percent)"
     ],
     "language": "python",
     "metadata": {},
     "outputs": []
    },
    {
     "cell_type": "code",
     "collapsed": false,
     "input": [
      "stacked_plot_bar(data1)"
     ],
     "language": "python",
     "metadata": {},
     "outputs": []
    },
    {
     "cell_type": "code",
     "collapsed": false,
     "input": [
      "stacked_plot_bar(data2)"
     ],
     "language": "python",
     "metadata": {},
     "outputs": []
    },
    {
     "cell_type": "code",
     "collapsed": false,
     "input": [
      "def divergent_stacked_plot_bar(data):\n",
      "    labels, values = zip(*data)\n",
      "    values = numpy.array(values)\n",
      "\n",
      "    fig = plt.figure(figsize=(10,len(labels)))\n",
      "    ax = fig.add_subplot(1,1,1)\n",
      "    despine(ax)\n",
      "    colors = ['#fa7d26','#fdbb7e','#c8d0d9','#a4cce8','#62a3cc']\n",
      "    ind = numpy.arange(len(labels))\n",
      "    base = -(values[:,0]+values[:,1]+values[:,2]/2.0)\n",
      "    for i in range(5):\n",
      "        ax.barh(ind, values[:,i], align='center', height=0.75, color=colors[i], left=base+values[:,:i].sum(axis=1))\n",
      "    ax.set_yticks(ind)\n",
      "    ax.set_yticklabels(labels)\n",
      "    ax.xaxis.set_major_formatter(to_percent)"
     ],
     "language": "python",
     "metadata": {},
     "outputs": []
    },
    {
     "cell_type": "code",
     "collapsed": false,
     "input": [
      "divergent_stacked_plot_bar(data1)"
     ],
     "language": "python",
     "metadata": {},
     "outputs": []
    },
    {
     "cell_type": "code",
     "collapsed": false,
     "input": [
      "divergent_stacked_plot_bar(data2)"
     ],
     "language": "python",
     "metadata": {},
     "outputs": []
    }
   ],
   "metadata": {}
  }
 ]
}