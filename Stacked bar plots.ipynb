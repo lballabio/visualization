{
 "cells": [
  {
   "cell_type": "code",
   "execution_count": 1,
   "metadata": {},
   "outputs": [],
   "source": [
    "import numpy\n",
    "from matplotlib import pyplot as plt\n",
    "from matplotlib import gridspec\n",
    "%matplotlib inline"
   ]
  },
  {
   "cell_type": "code",
   "execution_count": 2,
   "metadata": {},
   "outputs": [],
   "source": [
    "from visualization import stacked_bar_plot, utils"
   ]
  },
  {
   "cell_type": "code",
   "execution_count": 3,
   "metadata": {},
   "outputs": [],
   "source": [
    "data1 = [('ITA_1', [0.12, 0.08, 0.15, 0.20, 0.45]),\n",
    "         ('FIS_2', [0.00, 0.09, 0.22, 0.44, 0.25])]"
   ]
  },
  {
   "cell_type": "code",
   "execution_count": 4,
   "metadata": {},
   "outputs": [],
   "source": [
    "data2 = [('classe 1', [0.18, 0.22, 0.32, 0.14, 0.14]),\n",
    "         ('classe 2', [0.11, 0.00, 0.08, 0.15, 0.66]),\n",
    "         ('classe 3', [0.05, 0.00, 0.06, 0.35, 0.54])]"
   ]
  },
  {
   "cell_type": "markdown",
   "metadata": {},
   "source": [
    "### Stacked bar plots"
   ]
  },
  {
   "cell_type": "code",
   "execution_count": 5,
   "metadata": {},
   "outputs": [
    {
     "data": {
      "image/png": "[encoded data removed]",
      "text/plain": [
       "<matplotlib.figure.Figure at 0x7f0ebfd29d68>"
      ]
     },
     "metadata": {},
     "output_type": "display_data"
    }
   ],
   "source": [
    "fig = plt.figure(figsize=(10,len(data1)))\n",
    "ax = fig.add_subplot(1,1,1)\n",
    "stacked_bar_plot(ax, data1)"
   ]
  },
  {
   "cell_type": "code",
   "execution_count": 6,
   "metadata": {},
   "outputs": [
    {
     "data": {
      "image/png": "[encoded data removed]",
      "text/plain": [
       "<matplotlib.figure.Figure at 0x7f0ebfd29ac8>"
      ]
     },
     "metadata": {},
     "output_type": "display_data"
    }
   ],
   "source": [
    "fig = plt.figure(figsize=(10,len(data2)))\n",
    "ax = fig.add_subplot(1,1,1)\n",
    "stacked_bar_plot(ax, data2)"
   ]
  },
  {
   "cell_type": "markdown",
   "metadata": {},
   "source": [
    "### Divergent stacked bar plots"
   ]
  },
  {
   "cell_type": "code",
   "execution_count": 7,
   "metadata": {},
   "outputs": [
    {
     "data": {
      "image/png": "[encoded data removed]",
      "text/plain": [
       "<matplotlib.figure.Figure at 0x7f0ebdc7f3c8>"
      ]
     },
     "metadata": {},
     "output_type": "display_data"
    }
   ],
   "source": [
    "fig = plt.figure(figsize=(10,len(data1)))\n",
    "ax = fig.add_subplot(1,1,1)\n",
    "stacked_bar_plot(ax, data1, divergent=True)"
   ]
  },
  {
   "cell_type": "code",
   "execution_count": 8,
   "metadata": {},
   "outputs": [
    {
     "data": {
      "image/png": "[encoded data removed]",
      "text/plain": [
       "<matplotlib.figure.Figure at 0x7f0ebdc01208>"
      ]
     },
     "metadata": {},
     "output_type": "display_data"
    }
   ],
   "source": [
    "fig = plt.figure(figsize=(10,len(data2)))\n",
    "ax = fig.add_subplot(1,1,1)\n",
    "stacked_bar_plot(ax, data2, divergent=True)"
   ]
  },
  {
   "cell_type": "markdown",
   "metadata": {},
   "source": [
    "### A more complex example"
   ]
  },
  {
   "cell_type": "markdown",
   "metadata": {},
   "source": [
    "This adds the average satisfaction as an additional plot on the right side and compares it with the total average.\n",
    "We could also add further info, such as the average per category."
   ]
  },
  {
   "cell_type": "code",
   "execution_count": 9,
   "metadata": {},
   "outputs": [],
   "source": [
    "data3 = [('A', [0.12, 0.08, 0.15, 0.20, 0.45]),\n",
    "         ('B', [0.00, 0.09, 0.22, 0.44, 0.25]),\n",
    "         ('C', [0.18, 0.22, 0.32, 0.14, 0.14]),\n",
    "         ('D', [0.11, 0.00, 0.08, 0.15, 0.66]),\n",
    "         ('E', [0.05, 0.00, 0.06, 0.35, 0.54])]"
   ]
  },
  {
   "cell_type": "markdown",
   "metadata": {},
   "source": [
    "Here we calculate the average satisfactions..."
   ]
  },
  {
   "cell_type": "code",
   "execution_count": 10,
   "metadata": {},
   "outputs": [],
   "source": [
    "def average(values):\n",
    "    return sum( (i+1)*v for i,v in enumerate(values) )\n",
    "\n",
    "averages = [ average(v) for l,v in data3 ]\n",
    "total_avg = numpy.average(averages)"
   ]
  },
  {
   "cell_type": "markdown",
   "metadata": {},
   "source": [
    "...and use them to sort the data."
   ]
  },
  {
   "cell_type": "code",
   "execution_count": 11,
   "metadata": {},
   "outputs": [],
   "source": [
    "temp = sorted(zip(averages, data3))\n",
    "averages, data3 = zip(*temp)"
   ]
  },
  {
   "cell_type": "markdown",
   "metadata": {},
   "source": [
    "Finally, the plot:"
   ]
  },
  {
   "cell_type": "code",
   "execution_count": 12,
   "metadata": {},
   "outputs": [
    {
     "data": {
      "image/png": "[encoded data removed]",
      "text/plain": [
       "<matplotlib.figure.Figure at 0x7f0ebdb3ed68>"
      ]
     },
     "metadata": {},
     "output_type": "display_data"
    }
   ],
   "source": [
    "fig = plt.figure(figsize=(14,len(data3)))\n",
    "gs = gridspec.GridSpec(1, 2, width_ratios=[3, 1]) \n",
    "ax1 = plt.subplot(gs[0])\n",
    "stacked_bar_plot(ax1, data3, divergent=True)\n",
    "\n",
    "ax2 = plt.subplot(gs[1])\n",
    "utils.despine(ax2, ['top', 'bottom', 'right'])\n",
    "labels, values = zip(*data3)\n",
    "ind = numpy.arange(len(labels))\n",
    "ax2.set_yticks(ind)\n",
    "ax2.set_yticklabels(labels)\n",
    "ax2.set_xlim(0, 5)\n",
    "ax2.set_ylim(ax1.get_ylim())\n",
    "ax2.plot(averages, ind, 'o', markersize=12)\n",
    "\n",
    "_ = ax2.axvline(total_avg, color='#62a3cc')"
   ]
  },
  {
   "cell_type": "code",
   "execution_count": null,
   "metadata": {},
   "outputs": [],
   "source": []
  }
 ],
 "metadata": {
  "kernelspec": {
   "display_name": "Python 3",
   "language": "python",
   "name": "python3"
  },
  "language_info": {
   "codemirror_mode": {
    "name": "ipython",
    "version": 3
   },
   "file_extension": ".py",
   "mimetype": "text/x-python",
   "name": "python",
   "nbconvert_exporter": "python",
   "pygments_lexer": "ipython3",
   "version": "3.6.4"
  }
 },
 "nbformat": 4,
 "nbformat_minor": 1
}
