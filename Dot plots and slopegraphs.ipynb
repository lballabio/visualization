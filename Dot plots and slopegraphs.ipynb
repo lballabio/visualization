{
 "cells": [
  {
   "cell_type": "code",
   "execution_count": null,
   "metadata": {},
   "outputs": [],
   "source": [
    "from matplotlib import pyplot as plt\n",
    "import pandas as pd\n",
    "%matplotlib inline"
   ]
  },
  {
   "cell_type": "code",
   "execution_count": null,
   "metadata": {},
   "outputs": [],
   "source": [
    "labels = list('ABCDEFGHIJ')\n",
    "before = [1,4,5,9,9,11,13,14,18,20]\n",
    "after = [3,3,6,11,8,12,11,16,18,21]\n",
    "data = pd.DataFrame(list(zip(before, after)), index=labels, columns=['2016', '2017'])"
   ]
  },
  {
   "cell_type": "code",
   "execution_count": null,
   "metadata": {},
   "outputs": [],
   "source": [
    "def dot_plot(data):\n",
    "    N = len(data)\n",
    "    ind = range(1,N+1)\n",
    "    x1 = data[data.columns[0]]\n",
    "    x2 = data[data.columns[1]]\n",
    "\n",
    "    fig = plt.figure(figsize=(10,N*0.5))\n",
    "    ax = fig.add_subplot(1,1,1)\n",
    "    ax.set_ylim(0,N+1)\n",
    "    ax.yaxis.set_ticks(ind)\n",
    "    ax.yaxis.set_ticklabels(data.index)\n",
    "    for i,item in enumerate(data.index):\n",
    "        ax.hlines(i+1, x1[i], x2[i], linestyle='solid',color='#888888')\n",
    "    ax.plot(x1, ind, 'o', color='#eb7d3c', markersize=8, label=data.columns[0])\n",
    "    ax.plot(x2, ind, 'o', color='#1e3256', markersize=8, label=data.columns[1])\n",
    "    ax.legend(loc='best', numpoints=1)"
   ]
  },
  {
   "cell_type": "code",
   "execution_count": null,
   "metadata": {},
   "outputs": [],
   "source": [
    "dot_plot(data)"
   ]
  },
  {
   "cell_type": "code",
   "execution_count": null,
   "metadata": {},
   "outputs": [],
   "source": [
    "def slopegraph(data):\n",
    "    N = len(data)\n",
    "    x1 = data[data.columns[0]]\n",
    "    x2 = data[data.columns[1]]\n",
    "    ind = [1,2]\n",
    "\n",
    "    fig = plt.figure(figsize=(6,N))\n",
    "    ax = fig.add_subplot(1,1,1)\n",
    "    ax.set_xlim(0.25,2.25)\n",
    "    ax.xaxis.set_ticks(ind)\n",
    "    ax.xaxis.set_ticklabels(data.columns)\n",
    "\n",
    "    for i in range(N):\n",
    "        p, = ax.plot(ind, [x1[i],x2[i]], 'o', markersize=8, label=data.index[i])\n",
    "        ax.plot(ind, [x1[i],x2[i]], '-', color=p.get_color())\n",
    "    ax.legend(loc='best', numpoints=1)"
   ]
  },
  {
   "cell_type": "code",
   "execution_count": null,
   "metadata": {},
   "outputs": [],
   "source": [
    "slopegraph(data)"
   ]
  },
  {
   "cell_type": "code",
   "execution_count": null,
   "metadata": {},
   "outputs": [],
   "source": []
  }
 ],
 "metadata": {
  "kernelspec": {
   "display_name": "Python 3",
   "language": "python",
   "name": "python3"
  },
  "language_info": {
   "codemirror_mode": {
    "name": "ipython",
    "version": 3
   },
   "file_extension": ".py",
   "mimetype": "text/x-python",
   "name": "python",
   "nbconvert_exporter": "python",
   "pygments_lexer": "ipython3",
   "version": "3.6.3"
  }
 },
 "nbformat": 4,
 "nbformat_minor": 1
}
