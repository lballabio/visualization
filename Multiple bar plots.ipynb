{
 "cells": [
  {
   "cell_type": "code",
   "execution_count": null,
   "metadata": {},
   "outputs": [],
   "source": [
    "import numpy\n",
    "from matplotlib import pyplot as plt\n",
    "from matplotlib import ticker\n",
    "%matplotlib inline"
   ]
  },
  {
   "cell_type": "code",
   "execution_count": null,
   "metadata": {},
   "outputs": [],
   "source": [
    "def despine(ax, sides=None):\n",
    "    sides = sides or ['top', 'bottom', 'left', 'right']\n",
    "    for side in sides:\n",
    "        ax.spines[side].set_visible(False)"
   ]
  },
  {
   "cell_type": "code",
   "execution_count": null,
   "metadata": {},
   "outputs": [],
   "source": [
    "@ticker.FuncFormatter\n",
    "def to_percent(x, pos):\n",
    "    return \"%.0f %%\" % (x*100)    "
   ]
  },
  {
   "cell_type": "code",
   "execution_count": null,
   "metadata": {},
   "outputs": [],
   "source": [
    "data1 = [('ITA_1', [0.12, 0.08, 0.15, 0.20, 0.45]),\n",
    "         ('FIS_2', [0.00, 0.09, 0.22, 0.44, 0.25])]"
   ]
  },
  {
   "cell_type": "code",
   "execution_count": null,
   "metadata": {},
   "outputs": [],
   "source": [
    "data2 = [('classe 1', [0.18, 0.22, 0.32, 0.14, 0.14]),\n",
    "         ('classe 2', [0.11, 0.00, 0.08, 0.15, 0.66]),\n",
    "         ('classe 3', [0.05, 0.00, 0.06, 0.35, 0.54])]"
   ]
  },
  {
   "cell_type": "code",
   "execution_count": null,
   "metadata": {},
   "outputs": [],
   "source": [
    "def multiple_plot_bar(data):\n",
    "    labels, values = zip(*data)\n",
    "    values = numpy.array(values)\n",
    "    N = len(labels)\n",
    "\n",
    "    fig = plt.figure(figsize=(10,6))\n",
    "    ax = fig.add_subplot(1,1,1)\n",
    "    despine(ax)\n",
    "    ind = numpy.arange(len(values[0]))+1\n",
    "    total_width = 0.8\n",
    "    width = total_width/N\n",
    "    base = 0.5*width*(N-1)\n",
    "    for i in range(N):\n",
    "        ax.bar(ind-base+width*i, values[i], width=width, label=labels[i])\n",
    "    ax.set_xticks(ind)\n",
    "    ax.yaxis.set_major_formatter(to_percent)\n",
    "    ax.legend()"
   ]
  },
  {
   "cell_type": "code",
   "execution_count": null,
   "metadata": {},
   "outputs": [],
   "source": [
    "multiple_plot_bar(data1)"
   ]
  },
  {
   "cell_type": "code",
   "execution_count": null,
   "metadata": {},
   "outputs": [],
   "source": [
    "multiple_plot_bar(data2)"
   ]
  },
  {
   "cell_type": "code",
   "execution_count": null,
   "metadata": {},
   "outputs": [],
   "source": []
  }
 ],
 "metadata": {
  "kernelspec": {
   "display_name": "Python 3",
   "language": "python",
   "name": "python3"
  },
  "language_info": {
   "codemirror_mode": {
    "name": "ipython",
    "version": 3
   },
   "file_extension": ".py",
   "mimetype": "text/x-python",
   "name": "python",
   "nbconvert_exporter": "python",
   "pygments_lexer": "ipython3",
   "version": "3.6.3"
  }
 },
 "nbformat": 4,
 "nbformat_minor": 1
}
